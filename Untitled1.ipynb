{
 "cells": [
  {
   "cell_type": "code",
   "execution_count": 1,
   "id": "4bf145b1-377f-428e-b52e-d26c61321d1e",
   "metadata": {},
   "outputs": [
    {
     "name": "stdout",
     "output_type": "stream",
     "text": [
      "Mean Absolute Error (MAE): 1.2582\n",
      "R-squared (R2): 0.0288\n"
     ]
    }
   ],
   "source": [
    "import pandas as pd\n",
    "from sklearn.model_selection import train_test_split\n",
    "from sklearn.compose import ColumnTransformer\n",
    "from sklearn.pipeline import Pipeline\n",
    "from sklearn.impute import SimpleImputer\n",
    "from sklearn.preprocessing import OneHotEncoder, StandardScaler\n",
    "from sklearn.linear_model import LinearRegression\n",
    "from sklearn.metrics import mean_absolute_error, r2_score\n",
    "\n",
    "# Load the dataframe.\n",
    "df_air_pollution = pd.read_csv('air-pollution.csv')\n",
    "\n",
    "# Drop columns specified by the user and other irrelevant columns.\n",
    "columns_to_drop = ['energia', 'estres', 'sueno', 'ID_Zenodo', 'date_all', 'Houron', 'Houroff', 'Totaltime_estimated']\n",
    "\n",
    "# 1. Corrected step: Drop rows with missing values in the target variable 'bienestar' first.\n",
    "df_cleaned = df_air_pollution.dropna(subset=['bienestar']).copy()\n",
    "\n",
    "# 2. Corrected step: Identify features and target from the cleaned dataframe.\n",
    "target = 'bienestar'\n",
    "features = [col for col in df_cleaned.columns if col not in [target] + columns_to_drop]\n",
    "\n",
    "# Separate features and target from the new, cleaned dataframe.\n",
    "X = df_cleaned[features]\n",
    "y = df_cleaned[target]\n",
    "\n",
    "# Split data into training and test sets.\n",
    "X_train, X_test, y_train, y_test = train_test_split(X, y, test_size=0.2, random_state=42)\n",
    "\n",
    "# Identify numerical and categorical features.\n",
    "numerical_features = X.select_dtypes(include=['float64', 'int64']).columns\n",
    "categorical_features = X.select_dtypes(include=['object']).columns\n",
    "\n",
    "# Create preprocessors for numerical and categorical features.\n",
    "numerical_transformer = Pipeline(steps=[\n",
    "    ('imputer', SimpleImputer(strategy='mean')),\n",
    "    ('scaler', StandardScaler())\n",
    "])\n",
    "\n",
    "categorical_transformer = Pipeline(steps=[\n",
    "    ('imputer', SimpleImputer(strategy='most_frequent')),\n",
    "    ('onehot', OneHotEncoder(handle_unknown='ignore'))\n",
    "])\n",
    "\n",
    "# Create a preprocessor using ColumnTransformer.\n",
    "preprocessor = ColumnTransformer(\n",
    "    transformers=[\n",
    "        ('num', numerical_transformer, numerical_features)\n",
    "    ])\n",
    "\n",
    "# Create the full pipeline with a linear regression model.\n",
    "model_pipeline = Pipeline(steps=[\n",
    "    ('preprocessor', preprocessor),\n",
    "    ('regressor', LinearRegression())\n",
    "])\n",
    "\n",
    "# Fit the model pipeline.\n",
    "model_pipeline.fit(X_train, y_train)\n",
    "\n",
    "# Make predictions.\n",
    "y_pred = model_pipeline.predict(X_test)\n",
    "\n",
    "# Evaluate the model.\n",
    "mae = mean_absolute_error(y_test, y_pred)\n",
    "r2 = r2_score(y_test, y_pred)\n",
    "\n",
    "print(f\"Mean Absolute Error (MAE): {mae:.4f}\")\n",
    "print(f\"R-squared (R2): {r2:.4f}\")"
   ]
  },
  {
   "cell_type": "code",
   "execution_count": 2,
   "id": "9f7331fa-2203-4283-b576-837df8f50585",
   "metadata": {},
   "outputs": [
    {
     "name": "stdout",
     "output_type": "stream",
     "text": [
      "6.067405846568702 8.61396141626195 0.37547423285377823\n"
     ]
    }
   ],
   "source": [
    "print(y_pred.min(),y_pred.max(),y_pred.std())"
   ]
  },
  {
   "cell_type": "code",
   "execution_count": null,
   "id": "4ae8c973-b889-4da8-8438-4c686d596f61",
   "metadata": {},
   "outputs": [],
   "source": []
  }
 ],
 "metadata": {
  "kernelspec": {
   "display_name": "Python 3 (ipykernel)",
   "language": "python",
   "name": "python3"
  },
  "language_info": {
   "codemirror_mode": {
    "name": "ipython",
    "version": 3
   },
   "file_extension": ".py",
   "mimetype": "text/x-python",
   "name": "python",
   "nbconvert_exporter": "python",
   "pygments_lexer": "ipython3",
   "version": "3.11.9"
  }
 },
 "nbformat": 4,
 "nbformat_minor": 5
}
