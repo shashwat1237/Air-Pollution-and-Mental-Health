{
 "cells": [
  {
   "cell_type": "code",
   "execution_count": 1,
   "id": "24f48c63-287e-4066-bd57-30510361eaa6",
   "metadata": {},
   "outputs": [],
   "source": [
    "import pandas as pd\n",
    "import seaborn as sns\n",
    "from sklearn.cluster import DBSCAN\n",
    "from sklearn.preprocessing import StandardScaler\n",
    "from sklearn.decomposition import PCA\n",
    "import matplotlib.pyplot as plt\n",
    "from sklearn.neighbors import NearestNeighbors\n",
    "import numpy as np\n",
    "from sklearn.cluster import KMeans\n",
    "from sklearn.metrics import silhouette_score\n",
    "from sklearn.linear_model import LinearRegression\n",
    "import shap\n",
    "from sklearn.metrics import mean_absolute_error, r2_score\n",
    "from xgboost import plot_importance\n",
    "from sklearn.metrics import mean_squared_error\n",
    "import xgboost as xgb\n",
    "from sklearn.model_selection import train_test_split\n",
    "from sklearn.neighbors import LocalOutlierFactor\n",
    "from sklearn.metrics import accuracy_score, classification_report\n",
    "from imblearn.over_sampling import SMOTE\n",
    "from collections import Counter\n",
    "from sklearn.utils import resample\n",
    "from sklearn.tree import DecisionTreeClassifier\n",
    "from sklearn.datasets import make_classification\n",
    "from imblearn.over_sampling import ADASYN\n",
    "from sklearn.metrics import precision_recall_curve, auc, average_precision_score\n",
    "from sklearn.metrics import confusion_matrix, ConfusionMatrixDisplay\n",
    "from sklearn.preprocessing import LabelEncoder"
   ]
  },
  {
   "cell_type": "code",
   "execution_count": 2,
   "id": "e87ba259-cfb9-45b7-ab51-65c1b600c255",
   "metadata": {},
   "outputs": [],
   "source": [
    "df=pd.read_csv(\"air-pollution.csv\",header=0)\n",
    "df.drop([\"start_hour\",\"start_month\",\"start_day\",\"end_year\",\"end_month\",\"end_hour\",\"end_day\",\"month\",\"dayoftheweek\",\"hour\"],axis=1,inplace=True)"
   ]
  },
  {
   "cell_type": "code",
   "execution_count": 3,
   "id": "9a6bf4fd-7ccd-4649-a5c0-e19cb1f96bc8",
   "metadata": {},
   "outputs": [],
   "source": [
    "def cut_into_bins(column,num,bin_vertices=None):\n",
    "    #print(column.describe())\n",
    "    maxx=column.max()\n",
    "    minn=column.min()\n",
    "    step=(maxx-minn)/num\n",
    "    \n",
    "    bins=[minn+(i*step) for i in range(num)]+[maxx]\n",
    "    print(bins,\"duhifuhiufheufhu\")\n",
    "    if bin_vertices!=None:\n",
    "        bins=bin_vertices\n",
    "    #bins=[0,3.333,6.666,10]\n",
    "    #print(bins,\"bruh\")\n",
    "    labels=list(range(0,num))\n",
    "    #print(bins,max(column),min(column),step)\n",
    "    return pd.cut(column,bins=bins,labels=labels,include_lowest=True)\n",
    "def oversampling(X_train,Y_train,num_bins,weights):\n",
    "    together=pd.concat([X_train,Y_train],axis=1)\n",
    "    together.info()\n",
    "    #print(X_train.info())\n",
    "    #print(Y_train.info())\n",
    "    class_column=Y_train.columns.tolist()[0]\n",
    "    class1=together[together[class_column]==0]\n",
    "    class2=together[together[class_column]==1]\n",
    "    class3=together[together[class_column]==2]\n",
    "\n",
    "    classes=[together[together[class_column]==i] for i in range(num_bins)]\n",
    "    lengths=[len(classes[i]) for i in range(num_bins)]\n",
    "    max_length=max(lengths)\n",
    "    mindex=lengths.index(max_length)\n",
    "\n",
    "    for i in range(num_bins):\n",
    "        if i!=mindex:\n",
    "            classes[i]=resample(classes[i],\n",
    "                               replace=True,\n",
    "                               n_samples=max_length*weights[i],\n",
    "                               random_state=42)\n",
    "\n",
    "    \n",
    "   \n",
    "\n",
    "    mainn= pd.concat(classes)\n",
    "    return mainn.drop(class_column,axis=1),mainn[class_column]\n",
    "def remove_outliers_iqr(df,columns):\n",
    "    # For each numeric column\n",
    "    for col in columns:\n",
    "        Q1 = df[col].quantile(0.25)\n",
    "        Q3 = df[col].quantile(0.75)\n",
    "        IQR = Q3 - Q1\n",
    "        lower = Q1 - 1.5 * IQR\n",
    "        if lower<0:\n",
    "            lower=0\n",
    "        upper = Q3 + 1.5 * IQR\n",
    "        if upper>10:\n",
    "            upper=10\n",
    "        df = df[(df[col] >= lower) & (df[col] <= upper)]\n",
    "    return df"
   ]
  },
  {
   "cell_type": "code",
   "execution_count": 4,
   "id": "99fe5def-e0a4-4135-8bcd-f6cf480372a4",
   "metadata": {},
   "outputs": [
    {
     "name": "stdout",
     "output_type": "stream",
     "text": [
      "<class 'pandas.core.frame.DataFrame'>\n",
      "RangeIndex: 3348 entries, 0 to 3347\n",
      "Data columns (total 85 columns):\n",
      " #   Column                           Non-Null Count  Dtype  \n",
      "---  ------                           --------------  -----  \n",
      " 0   ID_Zenodo                        3348 non-null   int64  \n",
      " 1   date_all                         3348 non-null   int64  \n",
      " 2   year                             3348 non-null   int64  \n",
      " 3   day                              3348 non-null   int64  \n",
      " 4   mentalhealth_survey              3348 non-null   object \n",
      " 5   occurrence_mental                3280 non-null   float64\n",
      " 6   bienestar                        3273 non-null   float64\n",
      " 7   energia                          3207 non-null   float64\n",
      " 8   estres                           3173 non-null   float64\n",
      " 9   sueno                            3190 non-null   float64\n",
      " 10  horasfuera                       3231 non-null   float64\n",
      " 11  actividadfisica                  3232 non-null   object \n",
      " 12  ordenador                        3227 non-null   object \n",
      " 13  dieta                            3226 non-null   object \n",
      " 14  alcohol                          3222 non-null   object \n",
      " 15  drogas                           3227 non-null   object \n",
      " 16  bebida                           3225 non-null   object \n",
      " 17  enfermo                          3221 non-null   object \n",
      " 18  otrofactor                       3210 non-null   object \n",
      " 19  stroop_test                      3348 non-null   object \n",
      " 20  occurrence_stroop                3046 non-null   float64\n",
      " 21  mean_incongruent                 3046 non-null   float64\n",
      " 22  correct                          3046 non-null   float64\n",
      " 23  response_duration_ms             3046 non-null   float64\n",
      " 24  performance                      3046 non-null   float64\n",
      " 25  mean_congruent                   3046 non-null   float64\n",
      " 26  inhib_control                    3046 non-null   float64\n",
      " 27  z_performance                    3046 non-null   float64\n",
      " 28  z_mean_incongruent               3046 non-null   float64\n",
      " 29  z_inhib_control                  3046 non-null   float64\n",
      " 30  no2bcn_24h                       3348 non-null   float64\n",
      " 31  no2bcn_12h                       3348 non-null   float64\n",
      " 32  no2gps_24h                       3151 non-null   float64\n",
      " 33  no2gps_12h                       3146 non-null   float64\n",
      " 34  no2bcn_12h_x30                   3348 non-null   float64\n",
      " 35  no2bcn_24h_x30                   3348 non-null   float64\n",
      " 36  no2gps_12h_x30                   3151 non-null   float64\n",
      " 37  no2gps_24h_x30                   3151 non-null   float64\n",
      " 38  min_gps                          3242 non-null   float64\n",
      " 39  hour_gps                         3242 non-null   float64\n",
      " 40  pm25bcn                          3348 non-null   float64\n",
      " 41  BCμg                             3068 non-null   float64\n",
      " 42  sec_noise55_day                  2858 non-null   float64\n",
      " 43  sec_noise65_day                  2858 non-null   float64\n",
      " 44  sec_greenblue_day                2858 non-null   float64\n",
      " 45  hours_noise_55_day               2858 non-null   float64\n",
      " 46  hours_noise_65_day               2858 non-null   float64\n",
      " 47  hours_greenblue_day              2858 non-null   float64\n",
      " 48  tmean_24h                        3348 non-null   float64\n",
      " 49  tmean_12h                        3348 non-null   float64\n",
      " 50  humi_24h                         3348 non-null   float64\n",
      " 51  humi_12h                         3348 non-null   float64\n",
      " 52  pressure_24h                     3348 non-null   float64\n",
      " 53  pressure_12h                     3348 non-null   float64\n",
      " 54  precip_24h                       3348 non-null   float64\n",
      " 55  precip_12h                       3348 non-null   float64\n",
      " 56  precip_12h_binary                3348 non-null   int64  \n",
      " 57  precip_24h_binary                3348 non-null   int64  \n",
      " 58  maxwindspeed_24h                 3348 non-null   float64\n",
      " 59  maxwindspeed_12h                 3348 non-null   float64\n",
      " 60  noise_total_LDEN_55              3048 non-null   float64\n",
      " 61  access_greenbluespaces_300mbuff  3048 non-null   object \n",
      " 62  µgm3                             3018 non-null   float64\n",
      " 63  incidence_cat                    3018 non-null   object \n",
      " 64  start_year                       3018 non-null   float64\n",
      " 65  Totaltime                        3018 non-null   float64\n",
      " 66  Totaltime_estimated              3018 non-null   object \n",
      " 67  Houron                           3018 non-null   object \n",
      " 68  Houroff                          3018 non-null   object \n",
      " 69  age_yrs                          3172 non-null   float64\n",
      " 70  yearbirth                        3172 non-null   float64\n",
      " 71  smoke                            3000 non-null   object \n",
      " 72  psycho                           2964 non-null   object \n",
      " 73  gender                           3338 non-null   object \n",
      " 74  district                         3183 non-null   object \n",
      " 75  education                        3033 non-null   object \n",
      " 76  covid_work                       3313 non-null   object \n",
      " 77  covid_mood                       3174 non-null   object \n",
      " 78  covid_sleep                      3159 non-null   object \n",
      " 79  covid_espacios                   3150 non-null   object \n",
      " 80  covid_aire                       3150 non-null   object \n",
      " 81  covid_motor                      3095 non-null   object \n",
      " 82  covid_electric                   3046 non-null   object \n",
      " 83  covid_bikewalk                   3136 non-null   object \n",
      " 84  covid_public_trans               3136 non-null   object \n",
      "dtypes: float64(50), int64(6), object(29)\n",
      "memory usage: 2.2+ MB\n"
     ]
    }
   ],
   "source": [
    "df.info()"
   ]
  },
  {
   "cell_type": "code",
   "execution_count": 5,
   "id": "42a77da7-6668-4ee7-9da0-83821db00935",
   "metadata": {},
   "outputs": [],
   "source": [
    "df.dropna(inplace=True)"
   ]
  },
  {
   "cell_type": "code",
   "execution_count": 6,
   "id": "5fb35c0a-df3d-4cb9-91bd-9638eab54890",
   "metadata": {},
   "outputs": [
    {
     "ename": "AttributeError",
     "evalue": "'numpy.ndarray' object has no attribute 'unique'",
     "output_type": "error",
     "traceback": [
      "\u001b[31m---------------------------------------------------------------------------\u001b[39m",
      "\u001b[31mAttributeError\u001b[39m                            Traceback (most recent call last)",
      "\u001b[36mCell\u001b[39m\u001b[36m \u001b[39m\u001b[32mIn[6]\u001b[39m\u001b[32m, line 8\u001b[39m\n\u001b[32m      6\u001b[39m column_name=object_columns[index]\n\u001b[32m      7\u001b[39m values_for_label=les[index].fit_transform(object_df[column_name])\n\u001b[32m----> \u001b[39m\u001b[32m8\u001b[39m \u001b[38;5;28;01mif\u001b[39;00m \u001b[38;5;28mlen\u001b[39m([i.lower() \u001b[38;5;28;01mfor\u001b[39;00m i \u001b[38;5;129;01min\u001b[39;00m \u001b[38;5;28mlist\u001b[39m(\u001b[43mvalues_for_label\u001b[49m\u001b[43m.\u001b[49m\u001b[43munique\u001b[49m())])>\u001b[32m10\u001b[39m:\n\u001b[32m      9\u001b[39m     object_df.drop(columns=[column_name],inplace=\u001b[38;5;28;01mTrue\u001b[39;00m)\n\u001b[32m     10\u001b[39m object_df[object_columns[index]]=values_for_label\n",
      "\u001b[31mAttributeError\u001b[39m: 'numpy.ndarray' object has no attribute 'unique'"
     ]
    }
   ],
   "source": [
    "\n",
    "object_df=df.select_dtypes(include=[\"object\"]).copy()\n",
    "object_columns=list(object_df.columns)\n",
    "les=[LabelEncoder() for _ in range(len(object_columns))]\n",
    "index=0\n",
    "while index<len(object_columns):\n",
    "    column_name=object_columns[index]\n",
    "    values_for_label=les[index].fit_transform(object_df[column_name])\n",
    "    if len(set([i.lower() for i in list(values_for_label)]))>10:\n",
    "        object_df.drop(columns=[column_name],inplace=True)\n",
    "    object_df[object_columns[index]]=values_for_label\n",
    "    index+=1\n"
   ]
  },
  {
   "cell_type": "code",
   "execution_count": null,
   "id": "27e8833f-1510-483d-9d5b-324016783a0d",
   "metadata": {},
   "outputs": [],
   "source": [
    "numerical_df=df.select_dtypes(exclude=[\"object\"])\n",
    "numerical_df=pd.concat([numerical_df,object_df])"
   ]
  },
  {
   "cell_type": "code",
   "execution_count": null,
   "id": "346a17cd-1958-4cc4-a1e1-9463a9029b7e",
   "metadata": {},
   "outputs": [],
   "source": [
    "numerical_df.info()"
   ]
  },
  {
   "cell_type": "code",
   "execution_count": null,
   "id": "20d022cb-eba3-41b6-8296-ee6e4001a385",
   "metadata": {},
   "outputs": [],
   "source": [
    "numerical_df.head()"
   ]
  },
  {
   "cell_type": "code",
   "execution_count": null,
   "id": "e6663f42-f782-4af0-8fc8-8520c5f56c98",
   "metadata": {},
   "outputs": [],
   "source": [
    "numerical_df.select_dtypes(include=[\"float\"]).info()"
   ]
  },
  {
   "cell_type": "code",
   "execution_count": null,
   "id": "e7bc4688-d4a7-4bfa-af93-e2f260e79516",
   "metadata": {},
   "outputs": [],
   "source": [
    "def func(num):\n",
    "    try:\n",
    "        return int(num)\n",
    "    except:\n",
    "        return num\n",
    "numerical_df[[\"age_yrs\",\"yearbirth\",\"Totaltime\",\"start_year\"]]=numerical_df[[\"age_yrs\",\"yearbirth\",\"Totaltime\",\"start_year\"]].apply(func)"
   ]
  },
  {
   "cell_type": "code",
   "execution_count": null,
   "id": "831836bc-f7f0-4b9b-8089-fa2554366b1c",
   "metadata": {},
   "outputs": [],
   "source": [
    "numerical_df.info()"
   ]
  },
  {
   "cell_type": "code",
   "execution_count": null,
   "id": "2db0a198-5668-4bb9-95f0-8c284358de38",
   "metadata": {},
   "outputs": [],
   "source": [
    "numerical_df[\"bienestar\"].describe()"
   ]
  },
  {
   "cell_type": "code",
   "execution_count": null,
   "id": "3d0b6a90-9cba-4d7b-b4fd-5254db58420d",
   "metadata": {},
   "outputs": [],
   "source": [
    "numerical_df.corr()[\"bienestar\"].sort_values(key=abs,ascending=False).head(20)"
   ]
  },
  {
   "cell_type": "code",
   "execution_count": null,
   "id": "87bf4b9b-71c2-4e44-9ca0-d0ac9e6a1d9c",
   "metadata": {},
   "outputs": [],
   "source": [
    "sns.barplot(x=cut_into_bins(numerical_df[\"no2bcn_12h\"],5),y=numerical_df[\"bienestar\"])"
   ]
  },
  {
   "cell_type": "code",
   "execution_count": null,
   "id": "674c58cc-e979-4e49-8a74-42804e13f6fa",
   "metadata": {},
   "outputs": [],
   "source": [
    "numerical_df=numerical_df.drop(\"ID_Zenodo\",axis=1)\n",
    "correlation=numerical_df.corr()\n",
    "correlation=correlation.reset_index()\n",
    "correlation_melted=correlation.melt(id_vars=\"index\",var_name=\"col\",value_name=\"val\")\n",
    "correlation_melted=correlation_melted[correlation_melted[\"index\"]!=correlation_melted[\"col\"]]\n"
   ]
  },
  {
   "cell_type": "code",
   "execution_count": null,
   "id": "b6ac916b-3ced-488c-9ded-969f7f7014c5",
   "metadata": {},
   "outputs": [],
   "source": [
    "numerical_df.info()"
   ]
  },
  {
   "cell_type": "code",
   "execution_count": null,
   "id": "e81e6f2b-2068-490f-8f52-177ce59cd29c",
   "metadata": {},
   "outputs": [],
   "source": [
    "correlation_melted.head()"
   ]
  },
  {
   "cell_type": "code",
   "execution_count": null,
   "id": "de9096cb-3cd4-4035-86a3-ac0451e0b16f",
   "metadata": {},
   "outputs": [],
   "source": [
    "s=set()\n",
    "columns=list(numerical_df.columns)\n",
    "for i in range(len(columns)):\n",
    "    c1=columns[i]\n",
    "    for j in range(i+1,len(columns)):\n",
    "        \n",
    "        s.add(c1+columns[j])\n",
    "\n",
    "#correlation_melted=correlation_melted[(correlation_melted[\"index\"]+correlation_melted[\"col\"]) in s]\n",
    "correlation_melted=correlation_melted[(correlation_melted[\"index\"]+correlation_melted[\"col\"]).isin(s)]\n",
    "correlation_melted=correlation_melted.sort_values(by=\"val\",ascending=False,key=abs)"
   ]
  },
  {
   "cell_type": "code",
   "execution_count": null,
   "id": "9c6a4d57-44f5-4bf0-8018-8fec39ca22c1",
   "metadata": {},
   "outputs": [],
   "source": [
    "to_print=correlation_melted.head(200)\n",
    "\n",
    "for index in range(len(to_print)):\n",
    "    row=to_print.iloc[index]\n",
    "    print(row[\"index\"],row[\"col\"],row[\"val\"])"
   ]
  },
  {
   "cell_type": "code",
   "execution_count": null,
   "id": "134d23c7-d5bc-491b-a8a0-e51854438892",
   "metadata": {},
   "outputs": [],
   "source": [
    "columns=list(numerical_df.columns)\n",
    "#numerical_df.drop(columns=[\"energia\",\"estres\",\"sueno\"],inplace=True)"
   ]
  },
  {
   "cell_type": "code",
   "execution_count": null,
   "id": "a5a837cb-0e32-447a-bf84-d416f1de6871",
   "metadata": {},
   "outputs": [],
   "source": [
    "numerical_df.corr()"
   ]
  },
  {
   "cell_type": "code",
   "execution_count": null,
   "id": "d5b6d9de-cb60-4918-8d15-0940114feac5",
   "metadata": {},
   "outputs": [],
   "source": [
    "numerical_df.info()"
   ]
  },
  {
   "cell_type": "code",
   "execution_count": null,
   "id": "a74f0fcd-97c3-4aee-a34c-0fba2ba70b6b",
   "metadata": {},
   "outputs": [],
   "source": [
    "numerical_df=numerical_df.dropna()\n",
    "columns=[\"sueno\",\"estres\",\"energia\",\"bienestar\"]\n",
    "numerical_df.boxplot(column=columns)\n",
    "numerical_df=remove_outliers_iqr(numerical_df,columns)\n"
   ]
  },
  {
   "cell_type": "code",
   "execution_count": null,
   "id": "51f47e5a-8048-499e-86cc-e3e33dfe8334",
   "metadata": {},
   "outputs": [],
   "source": [
    "scaler=StandardScaler()\n",
    "\n",
    "\n",
    "#clustering_df=.drop(\"bienestar\",axis=1)\n",
    "#scaler_target=StandardScaler()\n",
    "\"\"\"\n",
    "numerical_df[\"bienestar\"]=cut_into_bins(numerical_df[\"bienestar\"],3)\n",
    "numerical_df[\"energia\"]=cut_into_bins(numerical_df[\"energia\"],3)\n",
    "numerical_df[\"estres\"]=cut_into_bins(numerical_df[\"estres\"],3)\n",
    "numerical_df[\"sueno\"]=cut_into_bins(numerical_df[\"sueno\"],3)\n",
    "\"\"\"\n",
    "scaler1=StandardScaler()\n",
    "scaler_bienestar=StandardScaler()\n",
    "#energia\n",
    "scaler_energia=StandardScaler()\n",
    "#estres\n",
    "scaler_estres=StandardScaler()\n",
    "#sueno\n",
    "scaler_sueno=StandardScaler()\n",
    "#Scaled=pd.DataFrame(scaler.fit_transform(clustering_df.drop(\"bienestar\",axis=1)),columns=clustering_df.drop(\"bienestar\",axis=1).columns,index=clustering_df.index)\n",
    "#Scaled=pd.concat([Scaled,pd.DataFrame(scaler_target.fit_transform(clustering_df[[\"bienestar\"]]),columns=[\"bienestar\"])],axis=1)\n",
    "#X_scaled[\"bienestar\"]=X_scaled[\"bienestar\"]*10\n",
    "Scaled_x=numerical_df.drop([\"bienestar\",\"energia\",\"estres\",\"sueno\"],axis=1)\n",
    "Scaled_x=pd.DataFrame(scaler1.fit_transform(Scaled_x),columns=Scaled_x.columns)\n",
    "Scaled_y_bienestar=pd.DataFrame(scaler_bienestar.fit_transform(numerical_df[[\"bienestar\"]]),columns=[\"bienestar\"])\n",
    "Scaled_y_sueno=pd.DataFrame(scaler_sueno.fit_transform(numerical_df[[\"sueno\"]]),columns=[\"sueno\"])\n",
    "Scaled_y_energia=pd.DataFrame(scaler_energia.fit_transform(numerical_df[[\"energia\"]]),columns=[\"energia\"])\n",
    "Scaled_y_estres=pd.DataFrame(scaler_estres.fit_transform(numerical_df[[\"estres\"]]),columns=[\"estres\"])\n",
    "Scaled=pd.concat([Scaled_x,Scaled_y_bienestar,\n",
    "                 Scaled_y_sueno,Scaled_y_energia,Scaled_y_estres],axis=1)"
   ]
  },
  {
   "cell_type": "code",
   "execution_count": null,
   "id": "d0dd2eff-18e4-49df-bede-6f03b1988252",
   "metadata": {},
   "outputs": [],
   "source": [
    "Scaled.info()"
   ]
  },
  {
   "cell_type": "code",
   "execution_count": null,
   "id": "1e2a128c-7710-49be-818c-9a2933529c0e",
   "metadata": {},
   "outputs": [],
   "source": [
    "silhouette_scores = []\n",
    "k_values = range(2, 11) # Start from 2, as a silhouette score is not defined for k=1\n",
    "\n",
    "for k in k_values:\n",
    "    # Apply K-Means\n",
    "    kmeans = KMeans(n_clusters=k, random_state=42, n_init=10)\n",
    "    kmeans.fit(Scaled)\n",
    "\n",
    "    # Get the cluster labels for each data point\n",
    "    labels = kmeans.labels_\n",
    "\n",
    "    # Calculate the silhouette score\n",
    "    score = silhouette_score(Scaled, labels)\n",
    "    silhouette_scores.append(score)\n",
    "\n",
    "    print(f\"For k={k}, the silhouette score is: {score:.4f}\")"
   ]
  },
  {
   "cell_type": "code",
   "execution_count": null,
   "id": "978711f5-2cd9-4c4e-936a-bf6ab15a119c",
   "metadata": {},
   "outputs": [],
   "source": [
    "plt.figure(figsize=(10, 6))\n",
    "plt.plot(k_values, silhouette_scores, marker='o', linestyle='--')\n",
    "plt.title('Silhouette Scores for Different Number of Clusters')\n",
    "plt.xlabel('Number of Clusters (k)')\n",
    "plt.ylabel('Average Silhouette Score')\n",
    "plt.xticks(k_values)\n",
    "plt.grid(True)\n",
    "plt.show()\n",
    "\n",
    "# Find the optimal k value\n",
    "optimal_k_index = np.argmax(silhouette_scores)\n",
    "optimal_k = k_values[optimal_k_index]\n",
    "\n",
    "print(f\"\\n The optimal number of clusters (k) is approximately: {optimal_k}\")"
   ]
  },
  {
   "cell_type": "code",
   "execution_count": null,
   "id": "13199832-838b-4ea6-8cc7-7bab35f0a66a",
   "metadata": {},
   "outputs": [],
   "source": [
    "\n",
    "\n",
    "Scaled_clean = Scaled.copy()\n",
    "estres=Scaled_clean[[\"estres\"]]\n",
    "energia=Scaled_clean[[\"energia\"]]\n",
    "sueno=Scaled_clean[[\"sueno\"]]\n",
    "bienestar=Scaled_clean[[\"bienestar\"]]\n"
   ]
  },
  {
   "cell_type": "code",
   "execution_count": null,
   "id": "e51aa257-52da-4007-9b11-74d730764fb1",
   "metadata": {},
   "outputs": [],
   "source": [
    "pca = PCA()\n",
    "pca.fit(Scaled_clean)\n",
    "\n",
    "\n",
    "explained_variance = pca.explained_variance_ratio_\n",
    "cumulative_variance = np.cumsum(explained_variance)\n",
    "\n",
    "# Step 5: Plot the explained variance\n",
    "plt.figure(figsize=(10, 6))\n",
    "plt.plot(range(1, len(cumulative_variance) + 1), cumulative_variance, marker='o', linestyle='--')\n",
    "plt.title('Explained Variance Plot')\n",
    "plt.xlabel('Number of Principal Components')\n",
    "plt.ylabel('Cumulative Explained Variance')\n",
    "plt.grid(True)\n",
    "plt.axhline(y=0.95, color='r', linestyle='-', label='95% Explained Variance Threshold')\n",
    "plt.legend(loc='lower right')\n",
    "plt.show()"
   ]
  },
  {
   "cell_type": "code",
   "execution_count": null,
   "id": "48234cf7-c352-4107-8a46-93df3f111a31",
   "metadata": {},
   "outputs": [],
   "source": [
    "Scaled_clean.drop([\"bienestar\",\"energia\",\"estres\",\"sueno\"],axis=1,inplace=True)"
   ]
  },
  {
   "cell_type": "code",
   "execution_count": null,
   "id": "e80a6fb0-441e-4cda-b2f9-789fe8634fc3",
   "metadata": {},
   "outputs": [],
   "source": [
    "X=Scaled_clean\n",
    "Y=pd.DataFrame(bienestar,columns=[\"bienestar\"])\n",
    "\n",
    "X_train, X_test, y_train, y_test = train_test_split(\n",
    "    X, \n",
    "    Y, \n",
    "    test_size=0.2, \n",
    "    random_state=42\n",
    ")"
   ]
  },
  {
   "cell_type": "code",
   "execution_count": null,
   "id": "9603db34-be2d-4794-8f5e-a77641f3b3c9",
   "metadata": {},
   "outputs": [],
   "source": [
    "model = LinearRegression()\n",
    "\n",
    "# Train model\n",
    "model.fit(X_train, y_train)\n",
    "\n",
    "# Make predictions\n",
    "y_pred = model.predict(X_test)\n"
   ]
  },
  {
   "cell_type": "code",
   "execution_count": null,
   "id": "c8d30d72-7131-446e-9473-cc7a5c873c7a",
   "metadata": {},
   "outputs": [],
   "source": [
    "\n",
    "mae = mean_absolute_error(y_test, y_pred)\n",
    "r2 = r2_score(y_test, y_pred)\n",
    "\n",
    "print(f\"Mean Absolute Error (MAE): {mae:.4f}\")\n",
    "print(f\"R-squared (R2): {r2:.4f}\")"
   ]
  },
  {
   "cell_type": "code",
   "execution_count": null,
   "id": "9e0533f6-1607-49d1-813d-88f6556c89e3",
   "metadata": {},
   "outputs": [],
   "source": [
    "mse = mean_squared_error(y_test, y_pred)\n",
    "rmse = np.sqrt(mse)\n",
    "\n",
    "print(f\"Mean Squared Error: {mse:.2f}\")\n",
    "print(f\"Root Mean Squared Error: {rmse:.2f}\")"
   ]
  },
  {
   "cell_type": "code",
   "execution_count": null,
   "id": "704067de-1e3d-40a4-87da-4c364ae6bbb1",
   "metadata": {},
   "outputs": [],
   "source": [
    "\n",
    "# Initialize the XGBoost Regressor model\n",
    "xgb_regressor = xgb.XGBRegressor(\n",
    "    objective='reg:squarederror',\n",
    "    n_estimators=100,\n",
    "    learning_rate=0.1,\n",
    "    max_depth=5,\n",
    "    random_state=42\n",
    ")\n",
    "\n",
    "\n",
    "# Train the model on the training data\n",
    "xgb_regressor.fit(X_train, y_train)"
   ]
  },
  {
   "cell_type": "code",
   "execution_count": null,
   "id": "ba813f68-f00b-40ce-a2c7-f93c14e1c0ff",
   "metadata": {},
   "outputs": [],
   "source": [
    "\n",
    "\n",
    "# Make predictions on the test set\n",
    "y_pred = xgb_regressor.predict(X_test)\n",
    "\n",
    "# Evaluate the model's performance\n",
    "mse = mean_squared_error(y_test, y_pred)\n",
    "rmse = np.sqrt(mse)\n",
    "\n",
    "print(f\"Mean Squared Error: {mse:.2f}\")\n",
    "print(f\"Root Mean Squared Error: {rmse:.2f}\")"
   ]
  },
  {
   "cell_type": "code",
   "execution_count": null,
   "id": "5532c08a-92d6-4b38-a13e-5bbcee32eaaa",
   "metadata": {},
   "outputs": [],
   "source": [
    "\n",
    "mae = mean_absolute_error(y_test, y_pred)\n",
    "r2 = r2_score(y_test, y_pred)\n",
    "\n",
    "print(f\"Mean Absolute Error (MAE): {mae:.4f}\")\n",
    "print(f\"R-squared (R2): {r2:.4f}\")"
   ]
  },
  {
   "cell_type": "code",
   "execution_count": null,
   "id": "0cd655a6-6c37-4caa-94e6-ba16f82c5581",
   "metadata": {},
   "outputs": [],
   "source": [
    "print(len(X_train.columns))"
   ]
  },
  {
   "cell_type": "code",
   "execution_count": null,
   "id": "3d720a9f-bfaf-4466-90ee-2ca46e1a4f47",
   "metadata": {},
   "outputs": [],
   "source": []
  },
  {
   "cell_type": "code",
   "execution_count": null,
   "id": "6f0f2618-bd2c-434c-b8a0-c5a01aa1ffd8",
   "metadata": {},
   "outputs": [],
   "source": []
  },
  {
   "cell_type": "code",
   "execution_count": null,
   "id": "74b9a002-7381-4292-8e36-2c5fcf92cbdf",
   "metadata": {},
   "outputs": [],
   "source": []
  },
  {
   "cell_type": "code",
   "execution_count": null,
   "id": "f792f489-782e-4335-9076-78fc4e4e09d4",
   "metadata": {},
   "outputs": [],
   "source": [
    "def f(column_to_predict):\n",
    "    global estres,sueno,energia,bienestar,X\n",
    "    to_predict={\"estres\":estres,\"sueno\":sueno,\"energia\":energia,\"bienestar\":bienestar}\n",
    "    Y=pd.DataFrame(to_predict[column_to_predict],columns=[column_to_predict])\n",
    "    Y.info()\n",
    "    Y[column_to_predict]=cut_into_bins(Y[column_to_predict],2,bin_vertices=[Y[column_to_predict].min(),Y[column_to_predict].quantile(0.5),Y[column_to_predict].max()]).astype(\"int\")\n",
    "    \n",
    "    #Y.info()\n",
    "    \n",
    "    #Y[\"estres\"]=cut_into_bins/(Y[\"estres\"],3).astype(\"int\").astype(\"category\")\n",
    "    \n",
    "    X_train, X_test, y_train, y_test = train_test_split(\n",
    "        X, \n",
    "        Y, \n",
    "        test_size=0.2, \n",
    "        random_state=42\n",
    "    )\n",
    "    \n",
    "    weights=[1,1]\n",
    "    X_train_resampled, y_train_resampled = oversampling(X_train,y_train,2,weights)\n",
    "    #X_train_resampled,y_train_resampled=X_train,y_train\n",
    "    model = xgb.XGBClassifier(\n",
    "        n_estimators=100,     # Number of boosting rounds (trees)\n",
    "        learning_rate=0.1,    # Step size\n",
    "        max_depth=10,          # Depth of trees\n",
    "        use_label_encoder=False, # Avoids warning\n",
    "        eval_metric=\"mlogloss\",  # Multi-class log loss\n",
    "        random_state=42,\n",
    "        enable_categorical=True,\n",
    "        scale_pos_weight=4.5538\n",
    "    )\n",
    "    model.fit(X_train_resampled, y_train_resampled)\n",
    "    \n",
    "    \n",
    "    together=pd.concat([X_test,y_test],axis=1)\n",
    "    min_length=min(len(y_test[y_test[column_to_predict]==0]),len(y_test[y_test[column_to_predict]==1]))\n",
    "    X1_sample = together[together[column_to_predict]==1]\n",
    "    X0_sample=together[together[column_to_predict]==0].sample(n=min_length, random_state=42,replace=False)\n",
    "    X_sample=pd.concat([X1_sample,X0_sample]).sample(n=min_length, random_state=42,replace=False)\n",
    "    Y_sample=X_sample[column_to_predict]\n",
    "    X_sample.drop(columns=[column_to_predict],axis=1,inplace=True)\n",
    "    y_pred = model.predict(X_sample)\n",
    "    \n",
    "    \n",
    "    # y_true: true binary labels (0 or 1)\n",
    "    # y_scores: model's predicted probabilities or decision function values\n",
    "    y_scores = model.predict_proba(X_sample)[:, 1]\n",
    "    precision, recall, thresholds = precision_recall_curve(Y_sample, y_scores)\n",
    "    \n",
    "    # Method 1: Standard AUC of the PR curve\n",
    "    auc_pr = auc(recall, precision)\n",
    "    \n",
    "    # Method 2: Average Precision (AP), more common in ML papers\n",
    "    ap_score = average_precision_score(Y_sample, y_pred)\n",
    "    \n",
    "    print(\"AUC-PR:\", auc_pr)\n",
    "    print(\"Average Precision (AP):\", ap_score)\n",
    "    print(\"Accuracy:\", accuracy_score(Y_sample, y_pred))\n",
    "    print(\"\\nClassification Report:\\n\", classification_report(Y_sample, y_pred))\n",
    "    \n",
    "    \n",
    "    cm = confusion_matrix(Y_sample, y_pred)\n",
    "    \n",
    "    # Display\n",
    "    disp = ConfusionMatrixDisplay(confusion_matrix=cm, display_labels=model.classes_)\n",
    "    disp.plot(cmap=\"Blues\", values_format='d')\n",
    "    plt.show()\n",
    "    cm = confusion_matrix(Y_sample, y_pred)\n",
    "    return model\n",
    "    \n"
   ]
  },
  {
   "cell_type": "code",
   "execution_count": null,
   "id": "8997b26b-d67d-41fc-81f3-eb9b8f962056",
   "metadata": {},
   "outputs": [],
   "source": [
    "model1=f(\"sueno\")\n",
    "xgb.plot_importance(model1, importance_type='gain')\n",
    "plt.show()"
   ]
  },
  {
   "cell_type": "code",
   "execution_count": null,
   "id": "4423f39d-c9ca-4463-8008-d0f94783018e",
   "metadata": {},
   "outputs": [],
   "source": [
    "model2=f(\"estres\")\n",
    "xgb.plot_importance(model2, importance_type='gain')\n",
    "plt.show()"
   ]
  },
  {
   "cell_type": "code",
   "execution_count": null,
   "id": "9ebcd83b-bdc7-449c-bdff-9eb65f3366ba",
   "metadata": {},
   "outputs": [],
   "source": [
    "model3=f(\"energia\")\n",
    "xgb.plot_importance(model3, importance_type='gain')\n",
    "plt.show()"
   ]
  },
  {
   "cell_type": "code",
   "execution_count": null,
   "id": "8b1a9d42-c709-48cf-872a-c8f3b0870c8c",
   "metadata": {},
   "outputs": [],
   "source": [
    "model4=f(\"bienestar\")\n",
    "xgb.plot_importance(model4, importance_type='gain')\n",
    "plt.show()"
   ]
  },
  {
   "cell_type": "code",
   "execution_count": null,
   "id": "5f84b230-db53-416c-99a6-7986ffe97efc",
   "metadata": {},
   "outputs": [],
   "source": [
    "explainer = shap.TreeExplainer(model1)\n",
    "shap_values = explainer.shap_values(X_train)\n",
    "\n",
    "\n",
    "shap.summary_plot(shap_values, X_train)"
   ]
  },
  {
   "cell_type": "code",
   "execution_count": null,
   "id": "0d4c0e59-6b65-424c-a04b-a7723541678c",
   "metadata": {},
   "outputs": [],
   "source": [
    "explainer = shap.TreeExplainer(model2)\n",
    "shap_values = explainer.shap_values(X_train)\n",
    "\n",
    "\n",
    "shap.summary_plot(shap_values, X_train)"
   ]
  },
  {
   "cell_type": "code",
   "execution_count": null,
   "id": "24cfe6d8-3276-437b-b0a7-e2a28ee74bc6",
   "metadata": {},
   "outputs": [],
   "source": [
    "explainer = shap.TreeExplainer(model3)\n",
    "shap_values = explainer.shap_values(X_train)\n",
    "\n",
    "\n",
    "shap.summary_plot(shap_values, X_train)"
   ]
  },
  {
   "cell_type": "code",
   "execution_count": null,
   "id": "edba7634-75aa-4117-8124-7b5fe3939f4d",
   "metadata": {},
   "outputs": [],
   "source": [
    "explainer = shap.TreeExplainer(model4)\n",
    "shap_values = explainer.shap_values(X_train)\n",
    "\n",
    "\n",
    "shap.summary_plot(shap_values, X_train)"
   ]
  },
  {
   "cell_type": "code",
   "execution_count": null,
   "id": "ec305845-a2c3-496c-9fe1-703c78b69737",
   "metadata": {},
   "outputs": [],
   "source": [
    "bienestar\n",
    "\n",
    "no2bcn inversely proportional\n",
    "no2gps inversely proportional\n",
    "sec_greenblue_day directly proportional\n",
    "age inversely proportional\n",
    "pressure directly proportional\n"
   ]
  },
  {
   "cell_type": "code",
   "execution_count": null,
   "id": "f34b8d6a-9182-4cd7-9245-a5b5b68e8d2c",
   "metadata": {},
   "outputs": [],
   "source": [
    "energia\n",
    "\n",
    "sec_greenblue_day directly proportional\n",
    "no2gps inversely proportional\n",
    "gender directly proportional"
   ]
  },
  {
   "cell_type": "code",
   "execution_count": null,
   "id": "288ab600-befb-4201-9941-40b758676fa0",
   "metadata": {},
   "outputs": [],
   "source": [
    "estres\n",
    "\n",
    "no2bcn directly proportional\n",
    "performance inversely proportional\n",
    "pressure inversely proportional\n",
    "Totak time inversely proportional\n",
    "no2gps directly proportional\n"
   ]
  },
  {
   "cell_type": "code",
   "execution_count": null,
   "id": "31d7f0df-c25f-475f-a483-8e185cdd5ce2",
   "metadata": {},
   "outputs": [],
   "source": [
    "suena\n",
    "\n",
    "no2_gps invversely proportional\n",
    "horasfuera invversely proportional\n",
    "Total time directly proportional\n",
    "sec_noise55_day inversely proportional"
   ]
  },
  {
   "cell_type": "code",
   "execution_count": null,
   "id": "9e7fb9cc-d88f-4f3a-8c46-cc93aaecc34a",
   "metadata": {},
   "outputs": [],
   "source": []
  }
 ],
 "metadata": {
  "kernelspec": {
   "display_name": "Python 3 (ipykernel)",
   "language": "python",
   "name": "python3"
  },
  "language_info": {
   "codemirror_mode": {
    "name": "ipython",
    "version": 3
   },
   "file_extension": ".py",
   "mimetype": "text/x-python",
   "name": "python",
   "nbconvert_exporter": "python",
   "pygments_lexer": "ipython3",
   "version": "3.11.9"
  }
 },
 "nbformat": 4,
 "nbformat_minor": 5
}
